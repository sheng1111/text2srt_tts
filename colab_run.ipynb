{
 "cells": [
  {
   "cell_type": "markdown",
   "metadata": {},
   "source": [
    "# Google Colab 運行 `text2srt_tts` 專案\n",
    "\n",
    "這個筆記本將引導您如何在 Google Colab 環境中運行 `text2srt_tts` 專案，並透過 `ngrok` 建立一個公開的 Streamlit 介面連結。\n",
    "安裝專案所需的 Python 依賴套件，包括 `streamlit`, `azure-cognitiveservices-speech`, `edge-tts`, `pydub`, `tqdm`, `pytest` 以及 `pyngrok` (用於建立公開連結)。\n"
   ]
  },
  {
   "cell_type": "code",
   "execution_count": null,
   "metadata": {},
   "outputs": [],
   "source": [
    "!git clone https://github.com/your-username/text2srt_tts.git\n",
    "%cd text2srt_tts\n",
    "\n",
    "# 安裝必要的Python套件\n",
    "!pip install -q -r requirements.txt\n",
    "!pip install pyngrok --quiet\n",
    "\n",
    "print(\"✅ 套件安裝完成！\")"
   ]
  },
  {
   "cell_type": "markdown",
   "metadata": {},
   "source": [
    "## 啟動 Streamlit 應用程式並使用 ngrok 建立公開連結\n",
    "\n",
    "我們將使用 `pyngrok` 來建立一個安全的隧道，將 Colab 中運行的 Streamlit 應用程式暴露到公共網路。您需要一個 `ngrok` 認證令牌 (Auth Token)。\n",
    "\n",
    "1.  前往 [ngrok 官網](https://ngrok.com/) 註冊一個免費帳號。\n",
    "2.  登入後，在您的 Dashboard 找到您的 Auth Token (通常在 \"Your Authtoken\" 頁面)。\n",
    "3.  將您的 Auth Token 貼到下面的 `NGROK_AUTH_TOKEN` 變數中。\n"
   ]
  },
  {
   "cell_type": "code",
   "execution_count": null,
   "metadata": {},
   "outputs": [],
   "source": [
    "from pyngrok import ngrok\n",
    "import subprocess\n",
    "import threading\n",
    "import time\n",
    "\n",
    "# 終止所有現有的 ngrok 通道\n",
    "ngrok.kill()\n",
    "\n",
    "# 請替換為您的 ngrok Auth Token\n",
    "NGROK_AUTH_TOKEN = \"YOUR_NGROK_AUTH_TOKEN\"\n",
    "\n",
    "# 設置 ngrok 認證\n",
    "ngrok.set_auth_token(NGROK_AUTH_TOKEN)\n",
    "\n",
    "# Streamlit 應用程式的端口\n",
    "streamlit_port = 8501\n",
    "\n",
    "# 啟動 Streamlit 應用程式的函數\n",
    "def start_streamlit():\n",
    "    print(\"啟動 Streamlit 應用程式...\")\n",
    "    # 使用 -m 參數確保模組正確載入\n",
    "    subprocess.run([\"python\", \"-m\", \"streamlit\", \"run\", \"app/ui/gui.py\", \"--server.port\", str(streamlit_port), \"--server.enableCORS\", \"false\", \"--server.enableXsrfProtection\", \"false\"])\n",
    "\n",
    "# 在獨立的執行緒中啟動 Streamlit\n",
    "streamlit_thread = threading.Thread(target=start_streamlit)\n",
    "streamlit_thread.daemon = True # 設置為守護執行緒，當主程式結束時自動終止\n",
    "streamlit_thread.start()\n",
    "\n",
    "time.sleep(5) # 等待 Streamlit 啟動\n",
    "\n",
    "# 建立 ngrok 隧道\n",
    "print(\"建立 ngrok 隧道...\")\n",
    "public_url = ngrok.connect(streamlit_port)\n",
    "print(f\"您的 Streamlit 應用程式已在以下公開連結運行: {public_url}\")\n",
    "\n",
    "# 心跳機制：保持 Colab 會話活躍\n",
    "# 運行此循環將阻止 Colab 會話因閒置而斷開，直到您手動停止執行。\n",
    "try:\n",
    "    while True:\n",
    "        print(\"心跳中... Colab 會話保持活躍。\")\n",
    "        time.sleep(60) # 每分鐘發送一次心跳\n",
    "except KeyboardInterrupt:\n",
    "    print(\"心跳機制已停止。\")\n",
    "    ngrok.kill()\n",
    "    print(\"ngrok 隧道已關閉。\")\n"
   ]
  }
 ],
 "metadata": {
  "colab": {
   "collapsed_sections": [],
   "provenance": []
  },
  "kernelspec": {
   "display_name": "Python 3",
   "name": "python3"
  },
  "language_info": {
   "name": "python"
  }
 },
 "nbformat": 4,
 "nbformat_minor": 0
}
